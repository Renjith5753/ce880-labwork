{
  "nbformat": 4,
  "nbformat_minor": 0,
  "metadata": {
    "colab": {
      "name": "week1.ipynb",
      "provenance": [],
      "authorship_tag": "ABX9TyOxXQj1kDW32F7vrB+dALXo",
      "include_colab_link": true
    },
    "kernelspec": {
      "name": "python3",
      "display_name": "Python 3"
    },
    "language_info": {
      "name": "python"
    }
  },
  "cells": [
    {
      "cell_type": "markdown",
      "metadata": {
        "id": "view-in-github",
        "colab_type": "text"
      },
      "source": [
        "<a href=\"https://colab.research.google.com/github/Renjith5753/labwork1/blob/main/week1/%20Exercise%201.ipynb\" target=\"_parent\"><img src=\"https://colab.research.google.com/assets/colab-badge.svg\" alt=\"Open In Colab\"/></a>"
      ]
    },
    {
      "cell_type": "code",
      "execution_count": 2,
      "metadata": {
        "colab": {
          "base_uri": "https://localhost:8080/"
        },
        "id": "vfKfJp6PgQnD",
        "outputId": "74dd3ad7-a0c8-4f57-eef4-dfdb6fec9510"
      },
      "outputs": [
        {
          "output_type": "stream",
          "name": "stdout",
          "text": [
            "The sum of the given two numbers is:  28\n"
          ]
        }
      ],
      "source": [
        "num1 = 12\n",
        "num2 = 16\n",
        "sum = num1+num2\n",
        "print('The sum of the given two numbers is: ', sum)"
      ]
    },
    {
      "cell_type": "code",
      "source": [
        "num1 = float(input('please enter your first no: '))\n",
        "num2 = float(input('please enter your second no: '))\n",
        "sum = num1 + num2\n",
        "print('The sum of the given two nos is: ',sum)"
      ],
      "metadata": {
        "colab": {
          "base_uri": "https://localhost:8080/"
        },
        "id": "K0okOLIjj9n5",
        "outputId": "6fde4ad2-ed56-4999-eadf-0e8bdd741b08"
      },
      "execution_count": 14,
      "outputs": [
        {
          "output_type": "stream",
          "name": "stdout",
          "text": [
            "please enter your first no: 35\n",
            "please enter your second no: 67\n",
            "The sum of the given two nos is:  102.0\n"
          ]
        }
      ]
    },
    {
      "cell_type": "code",
      "source": [
        "num1 = float(input('enter the number : '))\n",
        "sqr_rt = num1**0.5\n",
        "print('the square root of the given no is: ',sqr_rt)"
      ],
      "metadata": {
        "colab": {
          "base_uri": "https://localhost:8080/"
        },
        "id": "3mfiWGjjlrVP",
        "outputId": "be128666-249b-4b61-fcbe-2579e6e3d82d"
      },
      "execution_count": 17,
      "outputs": [
        {
          "output_type": "stream",
          "name": "stdout",
          "text": [
            "enter the number : 4\n",
            "the square root of the given no is:  2.0\n"
          ]
        }
      ]
    },
    {
      "cell_type": "code",
      "source": [
        "#area of a triangle\n",
        "height = 6\n",
        "base = 18\n",
        "area = (height*base)*(1/2)\n",
        "print('the area of the given triangle is : ',area,'cm2')"
      ],
      "metadata": {
        "colab": {
          "base_uri": "https://localhost:8080/"
        },
        "id": "UGKPu6KfmSv-",
        "outputId": "cf5848ac-2688-4c7e-f86d-0a1e3e640533"
      },
      "execution_count": 18,
      "outputs": [
        {
          "output_type": "stream",
          "name": "stdout",
          "text": [
            "the area of the given triangle is :  54.0 cm2\n"
          ]
        }
      ]
    }
  ]
}